{
  "nbformat": 4,
  "nbformat_minor": 0,
  "metadata": {
    "colab": {
      "name": "Fashion-MNIST.ipynb",
      "version": "0.3.2",
      "provenance": [],
      "collapsed_sections": [],
      "include_colab_link": true
    },
    "kernelspec": {
      "name": "python3",
      "display_name": "Python 3"
    },
    "accelerator": "TPU"
  },
  "cells": [
    {
      "cell_type": "markdown",
      "metadata": {
        "id": "view-in-github",
        "colab_type": "text"
      },
      "source": [
        "<a href=\"https://colab.research.google.com/github/CheshtaK/Fashion-MNIST/blob/master/Fashion_MNIST.ipynb\" target=\"_parent\"><img src=\"https://colab.research.google.com/assets/colab-badge.svg\" alt=\"Open In Colab\"/></a>"
      ]
    },
    {
      "metadata": {
        "id": "K8xdxuI8W7hF",
        "colab_type": "code",
        "colab": {
          "resources": {
            "http://localhost:8080/nbextensions/google.colab/files.js": {
              "data": "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",
              "ok": true,
              "headers": [
                [
                  "content-type",
                  "application/javascript"
                ]
              ],
              "status": 200,
              "status_text": ""
            }
          },
          "base_uri": "https://localhost:8080/",
          "height": 108
        },
        "outputId": "15b71c78-43ce-4996-94f2-1661262f4e81"
      },
      "cell_type": "code",
      "source": [
        "from google.colab import files\n",
        "files.upload()"
      ],
      "execution_count": 3,
      "outputs": [
        {
          "output_type": "display_data",
          "data": {
            "text/html": [
              "\n",
              "     <input type=\"file\" id=\"files-34f24524-0e11-4283-96c1-6bbe67902014\" name=\"files[]\" multiple disabled />\n",
              "     <output id=\"result-34f24524-0e11-4283-96c1-6bbe67902014\">\n",
              "      Upload widget is only available when the cell has been executed in the\n",
              "      current browser session. Please rerun this cell to enable.\n",
              "      </output>\n",
              "      <script src=\"/nbextensions/google.colab/files.js\"></script> "
            ],
            "text/plain": [
              "<IPython.core.display.HTML object>"
            ]
          },
          "metadata": {
            "tags": []
          }
        },
        {
          "output_type": "stream",
          "text": [
            "Saving fashion-mnist_test.csv to fashion-mnist_test.csv\n",
            "Saving fashion-mnist_train.csv to fashion-mnist_train.csv\n"
          ],
          "name": "stdout"
        }
      ]
    },
    {
      "metadata": {
        "id": "0gPMxKSvYmsq",
        "colab_type": "code",
        "colab": {
          "base_uri": "https://localhost:8080/",
          "height": 34
        },
        "outputId": "83af1a5c-0852-4e03-db17-5f415f600ad4"
      },
      "cell_type": "code",
      "source": [
        "import pandas as pd\n",
        "import numpy as np\n",
        "import matplotlib.pyplot as plt\n",
        "import cv2\n",
        "\n",
        "from keras.utils import to_categorical\n",
        "from keras.models import Sequential\n",
        "from keras.layers import *\n",
        "from keras.preprocessing.image import img_to_array, array_to_img\n",
        "\n",
        "from sklearn.model_selection import train_test_split"
      ],
      "execution_count": 2,
      "outputs": [
        {
          "output_type": "stream",
          "text": [
            "Using TensorFlow backend.\n"
          ],
          "name": "stderr"
        }
      ]
    },
    {
      "metadata": {
        "id": "AmnXnCwsrfW4",
        "colab_type": "text"
      },
      "cell_type": "markdown",
      "source": [
        "## Train Data Preparation"
      ]
    },
    {
      "metadata": {
        "id": "SI7PmzumlXwX",
        "colab_type": "code",
        "colab": {
          "base_uri": "https://localhost:8080/",
          "height": 34
        },
        "outputId": "6b431218-ea4f-4420-b101-e4c61f85a4e8"
      },
      "cell_type": "code",
      "source": [
        "train = pd.read_csv('./fashion-mnist_train.csv')\n",
        "X_ = np.array(train)\n",
        "X = X_[:,1:]\n",
        "\n",
        "Y_ = X_[:,0]\n",
        "Y = to_categorical(Y_)\n",
        "\n",
        "print(X.shape, Y.shape)"
      ],
      "execution_count": 27,
      "outputs": [
        {
          "output_type": "stream",
          "text": [
            "(60000, 784) (60000, 10)\n"
          ],
          "name": "stdout"
        }
      ]
    },
    {
      "metadata": {
        "id": "1IhsJcjlr7LD",
        "colab_type": "code",
        "colab": {
          "base_uri": "https://localhost:8080/",
          "height": 34
        },
        "outputId": "2cff4e79-87b3-44b5-a6a9-dab7fb9910a4"
      },
      "cell_type": "code",
      "source": [
        "test = pd.read_csv('./fashion-mnist_test.csv')\n",
        "X_ = np.array(test)\n",
        "X_test = X_[:,1:]\n",
        "\n",
        "Y_test = X_[:,0]\n",
        "Y_test = to_categorical(Y_test)\n",
        "\n",
        "print(X_test.shape, Y_test.shape)"
      ],
      "execution_count": 28,
      "outputs": [
        {
          "output_type": "stream",
          "text": [
            "(10000, 784) (10000, 10)\n"
          ],
          "name": "stdout"
        }
      ]
    },
    {
      "metadata": {
        "id": "qjpTI2nQscxL",
        "colab_type": "text"
      },
      "cell_type": "markdown",
      "source": [
        "## Splitting into training and validation set"
      ]
    },
    {
      "metadata": {
        "id": "QNk77_wXsn1E",
        "colab_type": "code",
        "colab": {
          "base_uri": "https://localhost:8080/",
          "height": 51
        },
        "outputId": "07f3e32d-884f-49b6-8c5f-e23d9fb0e0fa"
      },
      "cell_type": "code",
      "source": [
        "X_train, X_val, Y_train, Y_val = train_test_split(X, Y, test_size=0.2, random_state=13)\n",
        "\n",
        "print(X_train.shape, Y_train.shape)\n",
        "print(X_val.shape, Y_val.shape)"
      ],
      "execution_count": 29,
      "outputs": [
        {
          "output_type": "stream",
          "text": [
            "(48000, 784) (48000, 10)\n",
            "(12000, 784) (12000, 10)\n"
          ],
          "name": "stdout"
        }
      ]
    },
    {
      "metadata": {
        "id": "ikLvy8drtZQE",
        "colab_type": "text"
      },
      "cell_type": "markdown",
      "source": [
        "## Preprocessing the data"
      ]
    },
    {
      "metadata": {
        "id": "BguhMPL9tfLH",
        "colab_type": "code",
        "colab": {}
      },
      "cell_type": "code",
      "source": [
        "X_train = X_train.reshape((-1,28,28,1))\n",
        "X_train = X_train.astype('float32')\n",
        "X_train /= 255\n",
        "\n",
        "X_test = X_test.reshape((-1,28,28,1))\n",
        "X_test = X_test.astype('float32')\n",
        "X_test /= 255\n",
        "\n",
        "X_val = X_val.reshape((-1,28,28,1))\n",
        "X_val = X_val.astype('float32')\n",
        "X_val /= 255"
      ],
      "execution_count": 0,
      "outputs": []
    },
    {
      "metadata": {
        "id": "F_6hVBlR1nr7",
        "colab_type": "text"
      },
      "cell_type": "markdown",
      "source": [
        "## Visualize the data"
      ]
    },
    {
      "metadata": {
        "id": "AQfzQ6fG12Iv",
        "colab_type": "code",
        "colab": {
          "base_uri": "https://localhost:8080/",
          "height": 2537
        },
        "outputId": "8cd51bb2-7049-4bdd-a05f-21e7b18e33e5"
      },
      "cell_type": "code",
      "source": [
        "for i in range(10):\n",
        "  plt.imshow(X_train[i].reshape(28,28), cmap='gray')\n",
        "  plt.show()"
      ],
      "execution_count": 31,
      "outputs": [
        {
          "output_type": "display_data",
          "data": {
            "image/png": "[encoded data removed]",
            "text/plain": [
              "<Figure size 432x288 with 1 Axes>"
            ]
          },
          "metadata": {
            "tags": []
          }
        },
        {
          "output_type": "display_data",
          "data": {
            "image/png": "[encoded data removed]",
            "text/plain": [
              "<Figure size 432x288 with 1 Axes>"
            ]
          },
          "metadata": {
            "tags": []
          }
        },
        {
          "output_type": "display_data",
          "data": {
            "image/png": "[encoded data removed]",
            "text/plain": [
              "<Figure size 432x288 with 1 Axes>"
            ]
          },
          "metadata": {
            "tags": []
          }
        },
        {
          "output_type": "display_data",
          "data": {
            "image/png": "[encoded data removed]",
            "text/plain": [
              "<Figure size 432x288 with 1 Axes>"
            ]
          },
          "metadata": {
            "tags": []
          }
        },
        {
          "output_type": "display_data",
          "data": {
            "image/png": "[encoded data removed]",
            "text/plain": [
              "<Figure size 432x288 with 1 Axes>"
            ]
          },
          "metadata": {
            "tags": []
          }
        },
        {
          "output_type": "display_data",
          "data": {
            "image/png": "[encoded data removed]",
            "text/plain": [
              "<Figure size 432x288 with 1 Axes>"
            ]
          },
          "metadata": {
            "tags": []
          }
        },
        {
          "output_type": "display_data",
          "data": {
            "image/png": "[encoded data removed]",
            "text/plain": [
              "<Figure size 432x288 with 1 Axes>"
            ]
          },
          "metadata": {
            "tags": []
          }
        },
        {
          "output_type": "display_data",
          "data": {
            "image/png": "[encoded data removed]",
            "text/plain": [
              "<Figure size 432x288 with 1 Axes>"
            ]
          },
          "metadata": {
            "tags": []
          }
        },
        {
          "output_type": "display_data",
          "data": {
            "image/png": "[encoded data removed]",
            "text/plain": [
              "<Figure size 432x288 with 1 Axes>"
            ]
          },
          "metadata": {
            "tags": []
          }
        },
        {
          "output_type": "display_data",
          "data": {
            "image/png": "[encoded data removed]",
            "text/plain": [
              "<Figure size 432x288 with 1 Axes>"
            ]
          },
          "metadata": {
            "tags": []
          }
        }
      ]
    },
    {
      "metadata": {
        "id": "If09SHvZ20tz",
        "colab_type": "text"
      },
      "cell_type": "markdown",
      "source": [
        "## Training"
      ]
    },
    {
      "metadata": {
        "id": "ZT6SbB-Z4Qjb",
        "colab_type": "text"
      },
      "cell_type": "markdown",
      "source": [
        "## CNN Model 1\n",
        "\n",
        "With 1 convolutional layer"
      ]
    },
    {
      "metadata": {
        "id": "-5PaH2lr4Xfr",
        "colab_type": "code",
        "colab": {
          "base_uri": "https://localhost:8080/",
          "height": 340
        },
        "outputId": "6f842e47-04e5-48b6-d3bf-2bd28c2328cd"
      },
      "cell_type": "code",
      "source": [
        "model_1 = Sequential()\n",
        "model_1.add(Conv2D(32, kernel_size=(3,3), activation='relu', input_shape=(28,28,1)))\n",
        "model_1.add(MaxPooling2D(pool_size=(2,2)))\n",
        "model_1.add(Dropout(0.2))\n",
        "\n",
        "model_1.add(Flatten())\n",
        "\n",
        "model_1.add(Dense(128, activation='relu'))\n",
        "model_1.add(Dense(10, activation='softmax'))\n",
        "\n",
        "model_1.summary()"
      ],
      "execution_count": 32,
      "outputs": [
        {
          "output_type": "stream",
          "text": [
            "_________________________________________________________________\n",
            "Layer (type)                 Output Shape              Param #   \n",
            "=================================================================\n",
            "conv2d_4 (Conv2D)            (None, 26, 26, 32)        320       \n",
            "_________________________________________________________________\n",
            "max_pooling2d_4 (MaxPooling2 (None, 13, 13, 32)        0         \n",
            "_________________________________________________________________\n",
            "dropout_4 (Dropout)          (None, 13, 13, 32)        0         \n",
            "_________________________________________________________________\n",
            "flatten_4 (Flatten)          (None, 5408)              0         \n",
            "_________________________________________________________________\n",
            "dense_7 (Dense)              (None, 128)               692352    \n",
            "_________________________________________________________________\n",
            "dense_8 (Dense)              (None, 10)                1290      \n",
            "=================================================================\n",
            "Total params: 693,962\n",
            "Trainable params: 693,962\n",
            "Non-trainable params: 0\n",
            "_________________________________________________________________\n"
          ],
          "name": "stdout"
        }
      ]
    },
    {
      "metadata": {
        "id": "OyWjOt0d5TX7",
        "colab_type": "code",
        "colab": {
          "base_uri": "https://localhost:8080/",
          "height": 1734
        },
        "outputId": "5b28d8b1-b4b3-4420-a109-1ca2a82f5722"
      },
      "cell_type": "code",
      "source": [
        "model_1.compile(loss='categorical_crossentropy', optimizer='adam', metrics=['accuracy'])\n",
        "history_1 = model_1.fit(X_train, Y_train, batch_size=256, epochs=50, verbose=1, validation_data=(X_val, Y_val))"
      ],
      "execution_count": 33,
      "outputs": [
        {
          "output_type": "stream",
          "text": [
            "Train on 48000 samples, validate on 12000 samples\n",
            "Epoch 1/50\n",
            "48000/48000 [==============================] - 2s 43us/step - loss: 0.5420 - acc: 0.8112 - val_loss: 0.3933 - val_acc: 0.8614\n",
            "Epoch 2/50\n",
            "48000/48000 [==============================] - 1s 30us/step - loss: 0.3581 - acc: 0.8755 - val_loss: 0.3503 - val_acc: 0.8771\n",
            "Epoch 3/50\n",
            "48000/48000 [==============================] - 1s 30us/step - loss: 0.3132 - acc: 0.8885 - val_loss: 0.3107 - val_acc: 0.8887\n",
            "Epoch 4/50\n",
            "48000/48000 [==============================] - 1s 29us/step - loss: 0.2811 - acc: 0.8994 - val_loss: 0.2943 - val_acc: 0.8958\n",
            "Epoch 5/50\n",
            "48000/48000 [==============================] - 1s 30us/step - loss: 0.2669 - acc: 0.9035 - val_loss: 0.2822 - val_acc: 0.8972\n",
            "Epoch 6/50\n",
            "48000/48000 [==============================] - 1s 30us/step - loss: 0.2474 - acc: 0.9113 - val_loss: 0.2708 - val_acc: 0.9023\n",
            "Epoch 7/50\n",
            "48000/48000 [==============================] - 1s 28us/step - loss: 0.2307 - acc: 0.9171 - val_loss: 0.2639 - val_acc: 0.9044\n",
            "Epoch 8/50\n",
            "48000/48000 [==============================] - 1s 28us/step - loss: 0.2181 - acc: 0.9216 - val_loss: 0.2808 - val_acc: 0.8991\n",
            "Epoch 9/50\n",
            "48000/48000 [==============================] - 1s 28us/step - loss: 0.2064 - acc: 0.9250 - val_loss: 0.2507 - val_acc: 0.9102\n",
            "Epoch 10/50\n",
            "48000/48000 [==============================] - 1s 28us/step - loss: 0.1960 - acc: 0.9295 - val_loss: 0.2504 - val_acc: 0.9110\n",
            "Epoch 11/50\n",
            "48000/48000 [==============================] - 1s 28us/step - loss: 0.1857 - acc: 0.9326 - val_loss: 0.2514 - val_acc: 0.9110\n",
            "Epoch 12/50\n",
            "48000/48000 [==============================] - 1s 28us/step - loss: 0.1728 - acc: 0.9375 - val_loss: 0.2480 - val_acc: 0.9131\n",
            "Epoch 13/50\n",
            "48000/48000 [==============================] - 1s 28us/step - loss: 0.1651 - acc: 0.9403 - val_loss: 0.2434 - val_acc: 0.9149\n",
            "Epoch 14/50\n",
            "48000/48000 [==============================] - 1s 28us/step - loss: 0.1584 - acc: 0.9424 - val_loss: 0.2382 - val_acc: 0.9157\n",
            "Epoch 15/50\n",
            "48000/48000 [==============================] - 1s 28us/step - loss: 0.1504 - acc: 0.9454 - val_loss: 0.2390 - val_acc: 0.9166\n",
            "Epoch 16/50\n",
            "48000/48000 [==============================] - 1s 29us/step - loss: 0.1426 - acc: 0.9477 - val_loss: 0.2414 - val_acc: 0.9148\n",
            "Epoch 17/50\n",
            "48000/48000 [==============================] - 1s 28us/step - loss: 0.1375 - acc: 0.9512 - val_loss: 0.2489 - val_acc: 0.9145\n",
            "Epoch 18/50\n",
            "48000/48000 [==============================] - 1s 28us/step - loss: 0.1308 - acc: 0.9533 - val_loss: 0.2499 - val_acc: 0.9162\n",
            "Epoch 19/50\n",
            "48000/48000 [==============================] - 1s 28us/step - loss: 0.1236 - acc: 0.9562 - val_loss: 0.2427 - val_acc: 0.9175\n",
            "Epoch 20/50\n",
            "48000/48000 [==============================] - 1s 28us/step - loss: 0.1148 - acc: 0.9593 - val_loss: 0.2355 - val_acc: 0.9209\n",
            "Epoch 21/50\n",
            "48000/48000 [==============================] - 1s 28us/step - loss: 0.1116 - acc: 0.9593 - val_loss: 0.2479 - val_acc: 0.9185\n",
            "Epoch 22/50\n",
            "48000/48000 [==============================] - 1s 28us/step - loss: 0.1050 - acc: 0.9614 - val_loss: 0.2428 - val_acc: 0.9193\n",
            "Epoch 23/50\n",
            "48000/48000 [==============================] - 1s 27us/step - loss: 0.1012 - acc: 0.9629 - val_loss: 0.2433 - val_acc: 0.9212\n",
            "Epoch 24/50\n",
            "48000/48000 [==============================] - 1s 28us/step - loss: 0.0971 - acc: 0.9648 - val_loss: 0.2495 - val_acc: 0.9201\n",
            "Epoch 25/50\n",
            "48000/48000 [==============================] - 1s 28us/step - loss: 0.0900 - acc: 0.9681 - val_loss: 0.2881 - val_acc: 0.9093\n",
            "Epoch 26/50\n",
            "48000/48000 [==============================] - 1s 28us/step - loss: 0.0875 - acc: 0.9687 - val_loss: 0.2625 - val_acc: 0.9173\n",
            "Epoch 27/50\n",
            "48000/48000 [==============================] - 1s 28us/step - loss: 0.0849 - acc: 0.9688 - val_loss: 0.2683 - val_acc: 0.9179\n",
            "Epoch 28/50\n",
            "48000/48000 [==============================] - 1s 28us/step - loss: 0.0812 - acc: 0.9699 - val_loss: 0.2653 - val_acc: 0.9170\n",
            "Epoch 29/50\n",
            "48000/48000 [==============================] - 1s 28us/step - loss: 0.0762 - acc: 0.9728 - val_loss: 0.2842 - val_acc: 0.9157\n",
            "Epoch 30/50\n",
            "48000/48000 [==============================] - 1s 28us/step - loss: 0.0737 - acc: 0.9733 - val_loss: 0.2665 - val_acc: 0.9221\n",
            "Epoch 31/50\n",
            "48000/48000 [==============================] - 1s 28us/step - loss: 0.0691 - acc: 0.9756 - val_loss: 0.2707 - val_acc: 0.9193\n",
            "Epoch 32/50\n",
            "48000/48000 [==============================] - 1s 28us/step - loss: 0.0642 - acc: 0.9772 - val_loss: 0.2783 - val_acc: 0.9201\n",
            "Epoch 33/50\n",
            "48000/48000 [==============================] - 1s 28us/step - loss: 0.0610 - acc: 0.9784 - val_loss: 0.2736 - val_acc: 0.9205\n",
            "Epoch 34/50\n",
            "48000/48000 [==============================] - 1s 28us/step - loss: 0.0598 - acc: 0.9782 - val_loss: 0.2841 - val_acc: 0.9180\n",
            "Epoch 35/50\n",
            "48000/48000 [==============================] - 1s 28us/step - loss: 0.0566 - acc: 0.9804 - val_loss: 0.2984 - val_acc: 0.9181\n",
            "Epoch 36/50\n",
            "48000/48000 [==============================] - 1s 28us/step - loss: 0.0537 - acc: 0.9812 - val_loss: 0.2965 - val_acc: 0.9187\n",
            "Epoch 37/50\n",
            "48000/48000 [==============================] - 1s 28us/step - loss: 0.0529 - acc: 0.9810 - val_loss: 0.3081 - val_acc: 0.9157\n",
            "Epoch 38/50\n",
            "48000/48000 [==============================] - 1s 28us/step - loss: 0.0487 - acc: 0.9830 - val_loss: 0.2987 - val_acc: 0.9195\n",
            "Epoch 39/50\n",
            "48000/48000 [==============================] - 1s 28us/step - loss: 0.0474 - acc: 0.9833 - val_loss: 0.3179 - val_acc: 0.9156\n",
            "Epoch 40/50\n",
            "48000/48000 [==============================] - 1s 28us/step - loss: 0.0447 - acc: 0.9848 - val_loss: 0.3133 - val_acc: 0.9178\n",
            "Epoch 41/50\n",
            "48000/48000 [==============================] - 1s 28us/step - loss: 0.0446 - acc: 0.9846 - val_loss: 0.3223 - val_acc: 0.9171\n",
            "Epoch 42/50\n",
            "48000/48000 [==============================] - 1s 28us/step - loss: 0.0417 - acc: 0.9855 - val_loss: 0.3122 - val_acc: 0.9218\n",
            "Epoch 43/50\n",
            "48000/48000 [==============================] - 1s 28us/step - loss: 0.0381 - acc: 0.9863 - val_loss: 0.3207 - val_acc: 0.9197\n",
            "Epoch 44/50\n",
            "48000/48000 [==============================] - 1s 28us/step - loss: 0.0382 - acc: 0.9860 - val_loss: 0.3235 - val_acc: 0.9180\n",
            "Epoch 45/50\n",
            "48000/48000 [==============================] - 1s 28us/step - loss: 0.0390 - acc: 0.9861 - val_loss: 0.3369 - val_acc: 0.9208\n",
            "Epoch 46/50\n",
            "48000/48000 [==============================] - 1s 28us/step - loss: 0.0365 - acc: 0.9871 - val_loss: 0.3299 - val_acc: 0.9203\n",
            "Epoch 47/50\n",
            "48000/48000 [==============================] - 1s 28us/step - loss: 0.0352 - acc: 0.9882 - val_loss: 0.3395 - val_acc: 0.9203\n",
            "Epoch 48/50\n",
            "48000/48000 [==============================] - 1s 28us/step - loss: 0.0342 - acc: 0.9881 - val_loss: 0.3364 - val_acc: 0.9189\n",
            "Epoch 49/50\n",
            "48000/48000 [==============================] - 1s 28us/step - loss: 0.0311 - acc: 0.9892 - val_loss: 0.3424 - val_acc: 0.9171\n",
            "Epoch 50/50\n",
            "48000/48000 [==============================] - 1s 28us/step - loss: 0.0318 - acc: 0.9890 - val_loss: 0.3592 - val_acc: 0.9180\n"
          ],
          "name": "stdout"
        }
      ]
    },
    {
      "metadata": {
        "id": "gMDG1C4y6Ens",
        "colab_type": "code",
        "colab": {
          "base_uri": "https://localhost:8080/",
          "height": 51
        },
        "outputId": "12690460-a49d-410a-cad3-89185a51538d"
      },
      "cell_type": "code",
      "source": [
        "score_1 = model_1.evaluate(X_test, Y_test, verbose=0)\n",
        "print('Test loss: ', score_1[0])\n",
        "print('Test accuracy: ', score_1[1]*100)"
      ],
      "execution_count": 34,
      "outputs": [
        {
          "output_type": "stream",
          "text": [
            "Test loss:  0.33992794977873564\n",
            "Test accuracy:  92.28\n"
          ],
          "name": "stdout"
        }
      ]
    },
    {
      "metadata": {
        "id": "B-IW-b466y3b",
        "colab_type": "code",
        "colab": {
          "base_uri": "https://localhost:8080/",
          "height": 297
        },
        "outputId": "acd451e8-3b62-4ca6-a461-604206f1fe06"
      },
      "cell_type": "code",
      "source": [
        "plt.figure(figsize=(10,4))\n",
        "\n",
        "plt.subplot(1,2,1)\n",
        "plt.title('Loss vs Epochs')\n",
        "plt.plot(history_1.history['loss'], label='Training Loss')\n",
        "plt.plot(history_1.history['val_loss'], label='Validation Loss')\n",
        "plt.legend()\n",
        "\n",
        "plt.subplot(1,2,2)\n",
        "plt.title('Accuracy vs Epochs')\n",
        "plt.plot(history_1.history['acc'], label='Training Accuracy')\n",
        "plt.plot(history_1.history['val_acc'], label='Validation Accuracy')\n",
        "plt.legend()\n",
        "plt.tight_layout()\n",
        "plt.show()"
      ],
      "execution_count": 35,
      "outputs": [
        {
          "output_type": "display_data",
          "data": {
            "image/png": "[encoded data removed]",
            "text/plain": [
              "<Figure size 720x288 with 2 Axes>"
            ]
          },
          "metadata": {
            "tags": []
          }
        }
      ]
    },
    {
      "metadata": {
        "id": "S3AXKeyf7xp-",
        "colab_type": "text"
      },
      "cell_type": "markdown",
      "source": [
        "## CNN Model 2\n",
        "\n",
        "With 3 convolutional layers"
      ]
    },
    {
      "metadata": {
        "id": "w9NORjpOBKEd",
        "colab_type": "code",
        "colab": {
          "base_uri": "https://localhost:8080/",
          "height": 544
        },
        "outputId": "ef97c6aa-d441-4f63-e25a-34d6afb8c9b9"
      },
      "cell_type": "code",
      "source": [
        "model_2 = Sequential()\n",
        "model_2.add(Conv2D(32, kernel_size=(3,3), activation='relu', input_shape=(28,28,1)))\n",
        "model_2.add(MaxPooling2D((2,2)))\n",
        "model_2.add(Dropout(0.25))\n",
        "\n",
        "model_2.add(Conv2D(64, kernel_size=(3,3), activation='relu'))\n",
        "model_2.add(MaxPooling2D((2,2)))\n",
        "model_2.add(Dropout(0.25))\n",
        "\n",
        "model_2.add(Conv2D(128, kernel_size=(3,3), activation='relu'))\n",
        "model_2.add(Dropout(0.4))\n",
        "\n",
        "model_2.add(Flatten())\n",
        "\n",
        "model_2.add(Dense(128, activation='relu'))\n",
        "model_2.add(Dropout(0.3))\n",
        "model_2.add(Dense(10, activation='softmax'))\n",
        "\n",
        "model_2.summary()"
      ],
      "execution_count": 41,
      "outputs": [
        {
          "output_type": "stream",
          "text": [
            "_________________________________________________________________\n",
            "Layer (type)                 Output Shape              Param #   \n",
            "=================================================================\n",
            "conv2d_8 (Conv2D)            (None, 26, 26, 32)        320       \n",
            "_________________________________________________________________\n",
            "max_pooling2d_7 (MaxPooling2 (None, 13, 13, 32)        0         \n",
            "_________________________________________________________________\n",
            "dropout_9 (Dropout)          (None, 13, 13, 32)        0         \n",
            "_________________________________________________________________\n",
            "conv2d_9 (Conv2D)            (None, 11, 11, 64)        18496     \n",
            "_________________________________________________________________\n",
            "max_pooling2d_8 (MaxPooling2 (None, 5, 5, 64)          0         \n",
            "_________________________________________________________________\n",
            "dropout_10 (Dropout)         (None, 5, 5, 64)          0         \n",
            "_________________________________________________________________\n",
            "conv2d_10 (Conv2D)           (None, 3, 3, 128)         73856     \n",
            "_________________________________________________________________\n",
            "dropout_11 (Dropout)         (None, 3, 3, 128)         0         \n",
            "_________________________________________________________________\n",
            "flatten_6 (Flatten)          (None, 1152)              0         \n",
            "_________________________________________________________________\n",
            "dense_11 (Dense)             (None, 128)               147584    \n",
            "_________________________________________________________________\n",
            "dropout_12 (Dropout)         (None, 128)               0         \n",
            "_________________________________________________________________\n",
            "dense_12 (Dense)             (None, 10)                1290      \n",
            "=================================================================\n",
            "Total params: 241,546\n",
            "Trainable params: 241,546\n",
            "Non-trainable params: 0\n",
            "_________________________________________________________________\n"
          ],
          "name": "stdout"
        }
      ]
    },
    {
      "metadata": {
        "id": "ytz61wAQCWpC",
        "colab_type": "code",
        "colab": {
          "base_uri": "https://localhost:8080/",
          "height": 1734
        },
        "outputId": "f77cc18a-8dce-4980-c7cf-bc79b3988961"
      },
      "cell_type": "code",
      "source": [
        "model_2.compile(loss='categorical_crossentropy', optimizer='adam', metrics=['accuracy'])\n",
        "history_2 = model_2.fit(X_train, Y_train, batch_size=256, epochs=50, verbose=1, validation_data=(X_val, Y_val))"
      ],
      "execution_count": 42,
      "outputs": [
        {
          "output_type": "stream",
          "text": [
            "Train on 48000 samples, validate on 12000 samples\n",
            "Epoch 1/50\n",
            "48000/48000 [==============================] - 3s 59us/step - loss: 0.8929 - acc: 0.6672 - val_loss: 0.5333 - val_acc: 0.7939\n",
            "Epoch 2/50\n",
            "48000/48000 [==============================] - 2s 40us/step - loss: 0.5508 - acc: 0.7940 - val_loss: 0.4562 - val_acc: 0.8339\n",
            "Epoch 3/50\n",
            "48000/48000 [==============================] - 2s 39us/step - loss: 0.4751 - acc: 0.8235 - val_loss: 0.4022 - val_acc: 0.8514\n",
            "Epoch 4/50\n",
            "48000/48000 [==============================] - 2s 39us/step - loss: 0.4287 - acc: 0.8417 - val_loss: 0.3599 - val_acc: 0.8705\n",
            "Epoch 5/50\n",
            "48000/48000 [==============================] - 2s 39us/step - loss: 0.3991 - acc: 0.8540 - val_loss: 0.3366 - val_acc: 0.8776\n",
            "Epoch 6/50\n",
            "48000/48000 [==============================] - 2s 39us/step - loss: 0.3746 - acc: 0.8621 - val_loss: 0.3322 - val_acc: 0.8757\n",
            "Epoch 7/50\n",
            "48000/48000 [==============================] - 2s 39us/step - loss: 0.3556 - acc: 0.8699 - val_loss: 0.3040 - val_acc: 0.8923\n",
            "Epoch 8/50\n",
            "48000/48000 [==============================] - 2s 39us/step - loss: 0.3389 - acc: 0.8763 - val_loss: 0.2917 - val_acc: 0.8940\n",
            "Epoch 9/50\n",
            "48000/48000 [==============================] - 2s 39us/step - loss: 0.3209 - acc: 0.8826 - val_loss: 0.2868 - val_acc: 0.8949\n",
            "Epoch 10/50\n",
            "48000/48000 [==============================] - 2s 39us/step - loss: 0.3152 - acc: 0.8837 - val_loss: 0.2935 - val_acc: 0.8889\n",
            "Epoch 11/50\n",
            "48000/48000 [==============================] - 2s 39us/step - loss: 0.3070 - acc: 0.8857 - val_loss: 0.2717 - val_acc: 0.9003\n",
            "Epoch 12/50\n",
            "48000/48000 [==============================] - 2s 39us/step - loss: 0.2960 - acc: 0.8902 - val_loss: 0.2673 - val_acc: 0.9020\n",
            "Epoch 13/50\n",
            "48000/48000 [==============================] - 2s 39us/step - loss: 0.2884 - acc: 0.8933 - val_loss: 0.2595 - val_acc: 0.9018\n",
            "Epoch 14/50\n",
            "48000/48000 [==============================] - 2s 39us/step - loss: 0.2810 - acc: 0.8965 - val_loss: 0.2561 - val_acc: 0.9056\n",
            "Epoch 15/50\n",
            "48000/48000 [==============================] - 2s 39us/step - loss: 0.2771 - acc: 0.8982 - val_loss: 0.2510 - val_acc: 0.9085\n",
            "Epoch 16/50\n",
            "48000/48000 [==============================] - 2s 39us/step - loss: 0.2725 - acc: 0.8998 - val_loss: 0.2482 - val_acc: 0.9043\n",
            "Epoch 17/50\n",
            "48000/48000 [==============================] - 2s 39us/step - loss: 0.2639 - acc: 0.9016 - val_loss: 0.2463 - val_acc: 0.9109\n",
            "Epoch 18/50\n",
            "48000/48000 [==============================] - 2s 39us/step - loss: 0.2600 - acc: 0.9026 - val_loss: 0.2371 - val_acc: 0.9128\n",
            "Epoch 19/50\n",
            "48000/48000 [==============================] - 2s 40us/step - loss: 0.2561 - acc: 0.9055 - val_loss: 0.2544 - val_acc: 0.9046\n",
            "Epoch 20/50\n",
            "48000/48000 [==============================] - 2s 41us/step - loss: 0.2512 - acc: 0.9059 - val_loss: 0.2356 - val_acc: 0.9099\n",
            "Epoch 21/50\n",
            "48000/48000 [==============================] - 2s 41us/step - loss: 0.2448 - acc: 0.9092 - val_loss: 0.2421 - val_acc: 0.9100\n",
            "Epoch 22/50\n",
            "48000/48000 [==============================] - 2s 40us/step - loss: 0.2431 - acc: 0.9094 - val_loss: 0.2352 - val_acc: 0.9097\n",
            "Epoch 23/50\n",
            "48000/48000 [==============================] - 2s 39us/step - loss: 0.2373 - acc: 0.9119 - val_loss: 0.2289 - val_acc: 0.9133\n",
            "Epoch 24/50\n",
            "48000/48000 [==============================] - 2s 39us/step - loss: 0.2371 - acc: 0.9126 - val_loss: 0.2290 - val_acc: 0.9138\n",
            "Epoch 25/50\n",
            "48000/48000 [==============================] - 2s 39us/step - loss: 0.2328 - acc: 0.9138 - val_loss: 0.2242 - val_acc: 0.9162\n",
            "Epoch 26/50\n",
            "48000/48000 [==============================] - 2s 39us/step - loss: 0.2282 - acc: 0.9150 - val_loss: 0.2261 - val_acc: 0.9156\n",
            "Epoch 27/50\n",
            "48000/48000 [==============================] - 2s 40us/step - loss: 0.2281 - acc: 0.9156 - val_loss: 0.2200 - val_acc: 0.9188\n",
            "Epoch 28/50\n",
            "48000/48000 [==============================] - 2s 39us/step - loss: 0.2215 - acc: 0.9177 - val_loss: 0.2252 - val_acc: 0.9146\n",
            "Epoch 29/50\n",
            "48000/48000 [==============================] - 2s 39us/step - loss: 0.2226 - acc: 0.9166 - val_loss: 0.2241 - val_acc: 0.9164\n",
            "Epoch 30/50\n",
            "48000/48000 [==============================] - 2s 39us/step - loss: 0.2210 - acc: 0.9176 - val_loss: 0.2204 - val_acc: 0.9173\n",
            "Epoch 31/50\n",
            "48000/48000 [==============================] - 2s 39us/step - loss: 0.2191 - acc: 0.9183 - val_loss: 0.2204 - val_acc: 0.9157\n",
            "Epoch 32/50\n",
            "48000/48000 [==============================] - 2s 39us/step - loss: 0.2138 - acc: 0.9209 - val_loss: 0.2198 - val_acc: 0.9180\n",
            "Epoch 33/50\n",
            "48000/48000 [==============================] - 2s 39us/step - loss: 0.2108 - acc: 0.9215 - val_loss: 0.2245 - val_acc: 0.9172\n",
            "Epoch 34/50\n",
            "48000/48000 [==============================] - 2s 39us/step - loss: 0.2097 - acc: 0.9218 - val_loss: 0.2150 - val_acc: 0.9178\n",
            "Epoch 35/50\n",
            "48000/48000 [==============================] - 2s 39us/step - loss: 0.2113 - acc: 0.9203 - val_loss: 0.2155 - val_acc: 0.9201\n",
            "Epoch 36/50\n",
            "48000/48000 [==============================] - 2s 39us/step - loss: 0.2134 - acc: 0.9207 - val_loss: 0.2208 - val_acc: 0.9156\n",
            "Epoch 37/50\n",
            "48000/48000 [==============================] - 2s 40us/step - loss: 0.2032 - acc: 0.9235 - val_loss: 0.2125 - val_acc: 0.9200\n",
            "Epoch 38/50\n",
            "48000/48000 [==============================] - 2s 39us/step - loss: 0.2029 - acc: 0.9239 - val_loss: 0.2127 - val_acc: 0.9202\n",
            "Epoch 39/50\n",
            "48000/48000 [==============================] - 2s 39us/step - loss: 0.2048 - acc: 0.9221 - val_loss: 0.2141 - val_acc: 0.9227\n",
            "Epoch 40/50\n",
            "48000/48000 [==============================] - 2s 41us/step - loss: 0.1995 - acc: 0.9259 - val_loss: 0.2174 - val_acc: 0.9178\n",
            "Epoch 41/50\n",
            "48000/48000 [==============================] - 2s 41us/step - loss: 0.1996 - acc: 0.9251 - val_loss: 0.2168 - val_acc: 0.9183\n",
            "Epoch 42/50\n",
            "48000/48000 [==============================] - 2s 41us/step - loss: 0.1963 - acc: 0.9270 - val_loss: 0.2149 - val_acc: 0.9197\n",
            "Epoch 43/50\n",
            "48000/48000 [==============================] - 2s 41us/step - loss: 0.1956 - acc: 0.9266 - val_loss: 0.2106 - val_acc: 0.9227\n",
            "Epoch 44/50\n",
            "48000/48000 [==============================] - 2s 41us/step - loss: 0.1936 - acc: 0.9271 - val_loss: 0.2119 - val_acc: 0.9216\n",
            "Epoch 45/50\n",
            "48000/48000 [==============================] - 2s 39us/step - loss: 0.1897 - acc: 0.9268 - val_loss: 0.2130 - val_acc: 0.9211\n",
            "Epoch 46/50\n",
            "48000/48000 [==============================] - 2s 39us/step - loss: 0.1907 - acc: 0.9276 - val_loss: 0.2168 - val_acc: 0.9207\n",
            "Epoch 47/50\n",
            "48000/48000 [==============================] - 2s 39us/step - loss: 0.1881 - acc: 0.9289 - val_loss: 0.2078 - val_acc: 0.9234\n",
            "Epoch 48/50\n",
            "48000/48000 [==============================] - 2s 39us/step - loss: 0.1883 - acc: 0.9282 - val_loss: 0.2186 - val_acc: 0.9207\n",
            "Epoch 49/50\n",
            "48000/48000 [==============================] - 2s 39us/step - loss: 0.1884 - acc: 0.9301 - val_loss: 0.2124 - val_acc: 0.9217\n",
            "Epoch 50/50\n",
            "48000/48000 [==============================] - 2s 39us/step - loss: 0.1883 - acc: 0.9289 - val_loss: 0.2094 - val_acc: 0.9220\n"
          ],
          "name": "stdout"
        }
      ]
    },
    {
      "metadata": {
        "id": "oguJZsb7CddO",
        "colab_type": "code",
        "colab": {
          "base_uri": "https://localhost:8080/",
          "height": 51
        },
        "outputId": "100e0a28-9feb-45b6-a5e5-18b90eefed67"
      },
      "cell_type": "code",
      "source": [
        "score_2 = model_2.evaluate(X_test, Y_test, verbose=0)\n",
        "print('Test loss: ', score_2[0])\n",
        "print('Test accuracy: ', score_2[1]*100)"
      ],
      "execution_count": 43,
      "outputs": [
        {
          "output_type": "stream",
          "text": [
            "Test loss:  0.20038267666101456\n",
            "Test accuracy:  92.81\n"
          ],
          "name": "stdout"
        }
      ]
    },
    {
      "metadata": {
        "id": "E-Yheav2EKt_",
        "colab_type": "code",
        "colab": {
          "base_uri": "https://localhost:8080/",
          "height": 297
        },
        "outputId": "8bad633f-6961-43de-f004-c30c1f9ec567"
      },
      "cell_type": "code",
      "source": [
        "plt.figure(figsize=(10,4))\n",
        "\n",
        "plt.subplot(1,2,1)\n",
        "plt.title('Loss vs Epochs')\n",
        "plt.plot(history_2.history['loss'], label='Training Loss')\n",
        "plt.plot(history_2.history['val_loss'], label='Validation Loss')\n",
        "plt.legend()\n",
        "\n",
        "plt.subplot(1,2,2)\n",
        "plt.title('Accuracy vs Epochs')\n",
        "plt.plot(history_2.history['acc'], label='Training Accuracy')\n",
        "plt.plot(history_2.history['val_acc'], label='Validation Accuracy')\n",
        "plt.legend()\n",
        "plt.tight_layout()\n",
        "plt.show()"
      ],
      "execution_count": 44,
      "outputs": [
        {
          "output_type": "display_data",
          "data": {
            "image/png": "[encoded data removed]",
            "text/plain": [
              "<Figure size 720x288 with 2 Axes>"
            ]
          },
          "metadata": {
            "tags": []
          }
        }
      ]
    },
    {
      "metadata": {
        "id": "znkNdPoFIps5",
        "colab_type": "text"
      },
      "cell_type": "markdown",
      "source": [
        "## CNN Model 3\n",
        "\n",
        "With 4 convolutional layers"
      ]
    },
    {
      "metadata": {
        "id": "HHKTV9cTJ5CF",
        "colab_type": "code",
        "colab": {
          "base_uri": "https://localhost:8080/",
          "height": 850
        },
        "outputId": "87181317-0520-479a-a3ce-6bb460b56241"
      },
      "cell_type": "code",
      "source": [
        "model_3 = Sequential()\n",
        "model_3.add(Conv2D(32, kernel_size=(3,3), activation='relu', input_shape=(28,28,1)))\n",
        "model_3.add(BatchNormalization())\n",
        "\n",
        "model_3.add(Conv2D(32, kernel_size=(3,3), activation='relu'))\n",
        "model_3.add(BatchNormalization())\n",
        "model_3.add(MaxPooling2D((2,2)))\n",
        "model_3.add(Dropout(0.25))\n",
        "\n",
        "model_3.add(Conv2D(64, kernel_size=(3,3), activation='relu'))\n",
        "model_3.add(BatchNormalization())\n",
        "model_3.add(Dropout(0.25))\n",
        "\n",
        "model_3.add(Conv2D(128, kernel_size=(3,3), activation='relu'))\n",
        "model_3.add(BatchNormalization())\n",
        "model_3.add(MaxPooling2D((2,2)))\n",
        "model_3.add(Dropout(0.25))\n",
        "\n",
        "model_3.add(Flatten())\n",
        "\n",
        "model_3.add(Dense(512, activation='relu'))\n",
        "model_3.add(BatchNormalization())\n",
        "model_3.add(Dropout(0.5))\n",
        "\n",
        "model_3.add(Dense(128, activation='relu'))\n",
        "model_3.add(BatchNormalization())\n",
        "model_3.add(Dropout(0.5))\n",
        "\n",
        "model_3.add(Dense(10, activation='softmax'))\n",
        "\n",
        "model_3.summary()"
      ],
      "execution_count": 45,
      "outputs": [
        {
          "output_type": "stream",
          "text": [
            "_________________________________________________________________\n",
            "Layer (type)                 Output Shape              Param #   \n",
            "=================================================================\n",
            "conv2d_11 (Conv2D)           (None, 26, 26, 32)        320       \n",
            "_________________________________________________________________\n",
            "batch_normalization_1 (Batch (None, 26, 26, 32)        128       \n",
            "_________________________________________________________________\n",
            "conv2d_12 (Conv2D)           (None, 24, 24, 32)        9248      \n",
            "_________________________________________________________________\n",
            "batch_normalization_2 (Batch (None, 24, 24, 32)        128       \n",
            "_________________________________________________________________\n",
            "max_pooling2d_9 (MaxPooling2 (None, 12, 12, 32)        0         \n",
            "_________________________________________________________________\n",
            "dropout_13 (Dropout)         (None, 12, 12, 32)        0         \n",
            "_________________________________________________________________\n",
            "conv2d_13 (Conv2D)           (None, 10, 10, 64)        18496     \n",
            "_________________________________________________________________\n",
            "batch_normalization_3 (Batch (None, 10, 10, 64)        256       \n",
            "_________________________________________________________________\n",
            "dropout_14 (Dropout)         (None, 10, 10, 64)        0         \n",
            "_________________________________________________________________\n",
            "conv2d_14 (Conv2D)           (None, 8, 8, 128)         73856     \n",
            "_________________________________________________________________\n",
            "batch_normalization_4 (Batch (None, 8, 8, 128)         512       \n",
            "_________________________________________________________________\n",
            "max_pooling2d_10 (MaxPooling (None, 4, 4, 128)         0         \n",
            "_________________________________________________________________\n",
            "dropout_15 (Dropout)         (None, 4, 4, 128)         0         \n",
            "_________________________________________________________________\n",
            "flatten_7 (Flatten)          (None, 2048)              0         \n",
            "_________________________________________________________________\n",
            "dense_13 (Dense)             (None, 512)               1049088   \n",
            "_________________________________________________________________\n",
            "batch_normalization_5 (Batch (None, 512)               2048      \n",
            "_________________________________________________________________\n",
            "dropout_16 (Dropout)         (None, 512)               0         \n",
            "_________________________________________________________________\n",
            "dense_14 (Dense)             (None, 128)               65664     \n",
            "_________________________________________________________________\n",
            "batch_normalization_6 (Batch (None, 128)               512       \n",
            "_________________________________________________________________\n",
            "dropout_17 (Dropout)         (None, 128)               0         \n",
            "_________________________________________________________________\n",
            "dense_15 (Dense)             (None, 10)                1290      \n",
            "=================================================================\n",
            "Total params: 1,221,546\n",
            "Trainable params: 1,219,754\n",
            "Non-trainable params: 1,792\n",
            "_________________________________________________________________\n"
          ],
          "name": "stdout"
        }
      ]
    },
    {
      "metadata": {
        "id": "0kRBPPIPKTNW",
        "colab_type": "code",
        "colab": {
          "base_uri": "https://localhost:8080/",
          "height": 1734
        },
        "outputId": "5cdff1f2-8d99-45d3-cda2-fd6488aa17cf"
      },
      "cell_type": "code",
      "source": [
        "model_3.compile(loss='categorical_crossentropy', optimizer='adam', metrics=['accuracy'])\n",
        "history_3 = model_3.fit(X_train, Y_train, batch_size=256, epochs=50, verbose=1, validation_data=(X_val, Y_val))"
      ],
      "execution_count": 46,
      "outputs": [
        {
          "output_type": "stream",
          "text": [
            "Train on 48000 samples, validate on 12000 samples\n",
            "Epoch 1/50\n",
            "48000/48000 [==============================] - 7s 138us/step - loss: 0.7538 - acc: 0.7373 - val_loss: 0.4248 - val_acc: 0.8443\n",
            "Epoch 2/50\n",
            "48000/48000 [==============================] - 5s 97us/step - loss: 0.4439 - acc: 0.8416 - val_loss: 0.3623 - val_acc: 0.8704\n",
            "Epoch 3/50\n",
            "48000/48000 [==============================] - 5s 95us/step - loss: 0.3636 - acc: 0.8715 - val_loss: 0.3056 - val_acc: 0.8923\n",
            "Epoch 4/50\n",
            "48000/48000 [==============================] - 5s 94us/step - loss: 0.3270 - acc: 0.8835 - val_loss: 0.2859 - val_acc: 0.8942\n",
            "Epoch 5/50\n",
            "48000/48000 [==============================] - 5s 96us/step - loss: 0.3018 - acc: 0.8923 - val_loss: 0.2733 - val_acc: 0.9008\n",
            "Epoch 6/50\n",
            "48000/48000 [==============================] - 5s 96us/step - loss: 0.2826 - acc: 0.8997 - val_loss: 0.2544 - val_acc: 0.9071\n",
            "Epoch 7/50\n",
            "48000/48000 [==============================] - 5s 94us/step - loss: 0.2675 - acc: 0.9053 - val_loss: 0.2481 - val_acc: 0.9104\n",
            "Epoch 8/50\n",
            "48000/48000 [==============================] - 4s 94us/step - loss: 0.2571 - acc: 0.9081 - val_loss: 0.2421 - val_acc: 0.9098\n",
            "Epoch 9/50\n",
            "48000/48000 [==============================] - 4s 94us/step - loss: 0.2485 - acc: 0.9116 - val_loss: 0.2212 - val_acc: 0.9184\n",
            "Epoch 10/50\n",
            "48000/48000 [==============================] - 5s 94us/step - loss: 0.2345 - acc: 0.9155 - val_loss: 0.2232 - val_acc: 0.9187\n",
            "Epoch 11/50\n",
            "48000/48000 [==============================] - 5s 94us/step - loss: 0.2254 - acc: 0.9190 - val_loss: 0.2198 - val_acc: 0.9189\n",
            "Epoch 12/50\n",
            "48000/48000 [==============================] - 5s 94us/step - loss: 0.2221 - acc: 0.9212 - val_loss: 0.2239 - val_acc: 0.9201\n",
            "Epoch 13/50\n",
            "48000/48000 [==============================] - 5s 95us/step - loss: 0.2132 - acc: 0.9252 - val_loss: 0.2091 - val_acc: 0.9239\n",
            "Epoch 14/50\n",
            "48000/48000 [==============================] - 5s 96us/step - loss: 0.2061 - acc: 0.9249 - val_loss: 0.2501 - val_acc: 0.9146\n",
            "Epoch 15/50\n",
            "48000/48000 [==============================] - 5s 94us/step - loss: 0.1986 - acc: 0.9269 - val_loss: 0.2174 - val_acc: 0.9199\n",
            "Epoch 16/50\n",
            "48000/48000 [==============================] - 5s 94us/step - loss: 0.1914 - acc: 0.9310 - val_loss: 0.2050 - val_acc: 0.9264\n",
            "Epoch 17/50\n",
            "48000/48000 [==============================] - 5s 94us/step - loss: 0.1875 - acc: 0.9321 - val_loss: 0.2335 - val_acc: 0.9198\n",
            "Epoch 18/50\n",
            "48000/48000 [==============================] - 5s 95us/step - loss: 0.1830 - acc: 0.9343 - val_loss: 0.2175 - val_acc: 0.9227\n",
            "Epoch 19/50\n",
            "48000/48000 [==============================] - 5s 94us/step - loss: 0.1787 - acc: 0.9352 - val_loss: 0.2026 - val_acc: 0.9302\n",
            "Epoch 20/50\n",
            "48000/48000 [==============================] - 4s 94us/step - loss: 0.1761 - acc: 0.9359 - val_loss: 0.2094 - val_acc: 0.9267\n",
            "Epoch 21/50\n",
            "48000/48000 [==============================] - 5s 94us/step - loss: 0.1684 - acc: 0.9402 - val_loss: 0.2038 - val_acc: 0.9282\n",
            "Epoch 22/50\n",
            "48000/48000 [==============================] - 5s 94us/step - loss: 0.1660 - acc: 0.9403 - val_loss: 0.1975 - val_acc: 0.9288\n",
            "Epoch 23/50\n",
            "48000/48000 [==============================] - 5s 96us/step - loss: 0.1618 - acc: 0.9416 - val_loss: 0.2016 - val_acc: 0.9290\n",
            "Epoch 24/50\n",
            "48000/48000 [==============================] - 5s 96us/step - loss: 0.1571 - acc: 0.9431 - val_loss: 0.2174 - val_acc: 0.9263\n",
            "Epoch 25/50\n",
            "48000/48000 [==============================] - 4s 94us/step - loss: 0.1544 - acc: 0.9444 - val_loss: 0.1975 - val_acc: 0.9313\n",
            "Epoch 26/50\n",
            "48000/48000 [==============================] - 5s 94us/step - loss: 0.1540 - acc: 0.9443 - val_loss: 0.2040 - val_acc: 0.9282\n",
            "Epoch 27/50\n",
            "48000/48000 [==============================] - 4s 94us/step - loss: 0.1438 - acc: 0.9475 - val_loss: 0.1989 - val_acc: 0.9337\n",
            "Epoch 28/50\n",
            "48000/48000 [==============================] - 5s 94us/step - loss: 0.1434 - acc: 0.9487 - val_loss: 0.1958 - val_acc: 0.9333\n",
            "Epoch 29/50\n",
            "48000/48000 [==============================] - 5s 95us/step - loss: 0.1415 - acc: 0.9484 - val_loss: 0.1952 - val_acc: 0.9334\n",
            "Epoch 30/50\n",
            "48000/48000 [==============================] - 5s 94us/step - loss: 0.1361 - acc: 0.9512 - val_loss: 0.2060 - val_acc: 0.9298\n",
            "Epoch 31/50\n",
            "48000/48000 [==============================] - 5s 94us/step - loss: 0.1396 - acc: 0.9485 - val_loss: 0.2136 - val_acc: 0.9292\n",
            "Epoch 32/50\n",
            "48000/48000 [==============================] - 5s 95us/step - loss: 0.1329 - acc: 0.9516 - val_loss: 0.2149 - val_acc: 0.9303\n",
            "Epoch 33/50\n",
            "48000/48000 [==============================] - 5s 94us/step - loss: 0.1274 - acc: 0.9542 - val_loss: 0.2002 - val_acc: 0.9332\n",
            "Epoch 34/50\n",
            "48000/48000 [==============================] - 4s 94us/step - loss: 0.1273 - acc: 0.9531 - val_loss: 0.2035 - val_acc: 0.9337\n",
            "Epoch 35/50\n",
            "48000/48000 [==============================] - 4s 94us/step - loss: 0.1259 - acc: 0.9543 - val_loss: 0.2216 - val_acc: 0.9292\n",
            "Epoch 36/50\n",
            "48000/48000 [==============================] - 4s 94us/step - loss: 0.1189 - acc: 0.9569 - val_loss: 0.2232 - val_acc: 0.9273\n",
            "Epoch 37/50\n",
            "48000/48000 [==============================] - 5s 94us/step - loss: 0.1178 - acc: 0.9578 - val_loss: 0.2271 - val_acc: 0.9279\n",
            "Epoch 38/50\n",
            "48000/48000 [==============================] - 5s 94us/step - loss: 0.1203 - acc: 0.9563 - val_loss: 0.2060 - val_acc: 0.9344\n",
            "Epoch 39/50\n",
            "48000/48000 [==============================] - 5s 94us/step - loss: 0.1156 - acc: 0.9582 - val_loss: 0.2164 - val_acc: 0.9302\n",
            "Epoch 40/50\n",
            "48000/48000 [==============================] - 5s 95us/step - loss: 0.1119 - acc: 0.9596 - val_loss: 0.2269 - val_acc: 0.9286\n",
            "Epoch 41/50\n",
            "48000/48000 [==============================] - 5s 96us/step - loss: 0.1142 - acc: 0.9585 - val_loss: 0.2030 - val_acc: 0.9347\n",
            "Epoch 42/50\n",
            "48000/48000 [==============================] - 5s 96us/step - loss: 0.1063 - acc: 0.9612 - val_loss: 0.2209 - val_acc: 0.9317\n",
            "Epoch 43/50\n",
            "48000/48000 [==============================] - 5s 94us/step - loss: 0.1053 - acc: 0.9620 - val_loss: 0.2296 - val_acc: 0.9263\n",
            "Epoch 44/50\n",
            "48000/48000 [==============================] - 5s 94us/step - loss: 0.1044 - acc: 0.9627 - val_loss: 0.2248 - val_acc: 0.9312\n",
            "Epoch 45/50\n",
            "48000/48000 [==============================] - 5s 95us/step - loss: 0.1005 - acc: 0.9633 - val_loss: 0.2189 - val_acc: 0.9335\n",
            "Epoch 46/50\n",
            "48000/48000 [==============================] - 5s 94us/step - loss: 0.1034 - acc: 0.9625 - val_loss: 0.2164 - val_acc: 0.9339\n",
            "Epoch 47/50\n",
            "48000/48000 [==============================] - 5s 94us/step - loss: 0.1007 - acc: 0.9631 - val_loss: 0.2191 - val_acc: 0.9314\n",
            "Epoch 48/50\n",
            "48000/48000 [==============================] - 5s 94us/step - loss: 0.0994 - acc: 0.9633 - val_loss: 0.2167 - val_acc: 0.9336\n",
            "Epoch 49/50\n",
            "48000/48000 [==============================] - 5s 94us/step - loss: 0.0967 - acc: 0.9656 - val_loss: 0.2141 - val_acc: 0.9358\n",
            "Epoch 50/50\n",
            "48000/48000 [==============================] - 4s 94us/step - loss: 0.0953 - acc: 0.9651 - val_loss: 0.2237 - val_acc: 0.9351\n"
          ],
          "name": "stdout"
        }
      ]
    },
    {
      "metadata": {
        "id": "WiCStyh6Km5f",
        "colab_type": "code",
        "colab": {
          "base_uri": "https://localhost:8080/",
          "height": 51
        },
        "outputId": "749ac4a3-e498-4374-8452-5b2b781cd57d"
      },
      "cell_type": "code",
      "source": [
        "score_3 = model_3.evaluate(X_test, Y_test, verbose=0)\n",
        "print('Test loss: ', score_3[0])\n",
        "print('Test accuracy: ', score_3[1]*100)"
      ],
      "execution_count": 47,
      "outputs": [
        {
          "output_type": "stream",
          "text": [
            "Test loss:  0.21224662170670927\n",
            "Test accuracy:  93.97\n"
          ],
          "name": "stdout"
        }
      ]
    },
    {
      "metadata": {
        "id": "1GR0NhenMQcP",
        "colab_type": "code",
        "colab": {
          "base_uri": "https://localhost:8080/",
          "height": 297
        },
        "outputId": "b4fbc78f-3b21-44bd-c2f3-95bc58862935"
      },
      "cell_type": "code",
      "source": [
        "plt.figure(figsize=(10,4))\n",
        "\n",
        "plt.subplot(1,2,1)\n",
        "plt.title('Loss vs Epochs')\n",
        "plt.plot(history_3.history['loss'], label='Training Loss')\n",
        "plt.plot(history_3.history['val_loss'], label='Validation Loss')\n",
        "plt.legend()\n",
        "\n",
        "plt.subplot(1,2,2)\n",
        "plt.title('Accuracy vs Epochs')\n",
        "plt.plot(history_3.history['acc'], label='Training Accuracy')\n",
        "plt.plot(history_3.history['val_acc'], label='Validation Accuracy')\n",
        "plt.legend()\n",
        "plt.tight_layout()\n",
        "plt.show()"
      ],
      "execution_count": 49,
      "outputs": [
        {
          "output_type": "display_data",
          "data": {
            "image/png": "[encoded data removed]",
            "text/plain": [
              "<Figure size 720x288 with 2 Axes>"
            ]
          },
          "metadata": {
            "tags": []
          }
        }
      ]
    },
    {
      "metadata": {
        "id": "XUhnk36kMU9M",
        "colab_type": "text"
      },
      "cell_type": "markdown",
      "source": [
        "## Transfer Learning\n",
        "\n",
        "Using the VGG19 model"
      ]
    },
    {
      "metadata": {
        "id": "wcrcOuJaP9oq",
        "colab_type": "text"
      },
      "cell_type": "markdown",
      "source": [
        "### Data Preparation"
      ]
    },
    {
      "metadata": {
        "id": "iKmA92AEUiFJ",
        "colab_type": "code",
        "colab": {
          "base_uri": "https://localhost:8080/",
          "height": 34
        },
        "outputId": "3af40ab5-b237-4a4a-bf1d-b239a3ac0ca9"
      },
      "cell_type": "code",
      "source": [
        "train = pd.read_csv('./fashion-mnist_train.csv')\n",
        "X_ = np.array(train)\n",
        "X = X_[:,1:]\n",
        "\n",
        "Y_ = X_[:,0]\n",
        "Y = to_categorical(Y_)\n",
        "\n",
        "print(X.shape, Y.shape)"
      ],
      "execution_count": 3,
      "outputs": [
        {
          "output_type": "stream",
          "text": [
            "(60000, 784) (60000, 10)\n"
          ],
          "name": "stdout"
        }
      ]
    },
    {
      "metadata": {
        "id": "2zJ-yTalU6Wu",
        "colab_type": "code",
        "colab": {
          "base_uri": "https://localhost:8080/",
          "height": 34
        },
        "outputId": "d688af5e-c994-4672-d1ca-17e370824ba5"
      },
      "cell_type": "code",
      "source": [
        "test = pd.read_csv('./fashion-mnist_test.csv')\n",
        "X_ = np.array(test)\n",
        "X_test = X_[:,1:]\n",
        "\n",
        "Y_test = X_[:,0]\n",
        "Y_test = to_categorical(Y_test)\n",
        "\n",
        "print(X_test.shape, Y_test.shape)"
      ],
      "execution_count": 4,
      "outputs": [
        {
          "output_type": "stream",
          "text": [
            "(10000, 784) (10000, 10)\n"
          ],
          "name": "stdout"
        }
      ]
    },
    {
      "metadata": {
        "id": "D5swdHilVNHB",
        "colab_type": "code",
        "colab": {
          "base_uri": "https://localhost:8080/",
          "height": 34
        },
        "outputId": "2e36a5e1-de86-453d-f5a9-8ba9609391e8"
      },
      "cell_type": "code",
      "source": [
        "## VGG19 requires colored images\n",
        "X = np.dstack([X]*3)\n",
        "X_test = np.dstack([X_test]*3)\n",
        "\n",
        "print(X.shape, X_test.shape)"
      ],
      "execution_count": 5,
      "outputs": [
        {
          "output_type": "stream",
          "text": [
            "(60000, 784, 3) (10000, 784, 3)\n"
          ],
          "name": "stdout"
        }
      ]
    },
    {
      "metadata": {
        "id": "fjehjWydVad_",
        "colab_type": "code",
        "colab": {
          "base_uri": "https://localhost:8080/",
          "height": 34
        },
        "outputId": "75506f24-d06b-429b-85d4-cf23813f73c8"
      },
      "cell_type": "code",
      "source": [
        "## Reshape to (28,28)\n",
        "X = X.reshape((-1,28,28,3))\n",
        "X_test = X_test.reshape((-1,28,28,3))\n",
        "\n",
        "print(X.shape, X_test.shape)"
      ],
      "execution_count": 6,
      "outputs": [
        {
          "output_type": "stream",
          "text": [
            "(60000, 28, 28, 3) (10000, 28, 28, 3)\n"
          ],
          "name": "stdout"
        }
      ]
    },
    {
      "metadata": {
        "id": "vyATP8RiXA6D",
        "colab_type": "code",
        "colab": {}
      },
      "cell_type": "code",
      "source": [
        "X = X.astype('float32')\n",
        "X /= 255\n",
        "\n",
        "X_test = X_test.astype('float32')\n",
        "X_test /= 255"
      ],
      "execution_count": 0,
      "outputs": []
    },
    {
      "metadata": {
        "id": "8TB0E6mknFAi",
        "colab_type": "text"
      },
      "cell_type": "markdown",
      "source": [
        "### Splitting into training and validation data"
      ]
    },
    {
      "metadata": {
        "id": "UHEzhYmDnLMk",
        "colab_type": "code",
        "colab": {
          "base_uri": "https://localhost:8080/",
          "height": 51
        },
        "outputId": "ababa850-fb2c-46b5-bd52-dd77111026d2"
      },
      "cell_type": "code",
      "source": [
        "X_train, X_val, Y_train, Y_val = train_test_split(X, Y, test_size=0.2, random_state=13)\n",
        "\n",
        "print(X_train.shape, Y_train.shape)\n",
        "print(X_val.shape, Y_val.shape)"
      ],
      "execution_count": 8,
      "outputs": [
        {
          "output_type": "stream",
          "text": [
            "(48000, 28, 28, 3) (48000, 10)\n",
            "(12000, 28, 28, 3) (12000, 10)\n"
          ],
          "name": "stdout"
        }
      ]
    },
    {
      "metadata": {
        "id": "lBarzpbSneNY",
        "colab_type": "code",
        "colab": {}
      },
      "cell_type": "code",
      "source": [
        ""
      ],
      "execution_count": 0,
      "outputs": []
    }
  ]
}