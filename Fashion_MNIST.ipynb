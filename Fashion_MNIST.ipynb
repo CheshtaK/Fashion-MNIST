{
  "nbformat": 4,
  "nbformat_minor": 0,
  "metadata": {
    "colab": {
      "name": "Fashion-MNIST.ipynb",
      "version": "0.3.2",
      "provenance": [],
      "collapsed_sections": []
    },
    "kernelspec": {
      "name": "python3",
      "display_name": "Python 3"
    },
    "accelerator": "GPU"
  },
  "cells": [
    {
      "metadata": {
        "id": "K8xdxuI8W7hF",
        "colab_type": "code",
        "colab": {
          "resources": {
            "http://localhost:8080/nbextensions/google.colab/files.js": {
              "data": "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",
              "ok": true,
              "headers": [
                [
                  "content-type",
                  "application/javascript"
                ]
              ],
              "status": 200,
              "status_text": ""
            }
          },
          "base_uri": "https://localhost:8080/",
          "height": 108
        },
        "outputId": "90a24dba-2e6e-4de4-88bb-598f6896af93"
      },
      "cell_type": "code",
      "source": [
        "from google.colab import files\n",
        "files.upload()"
      ],
      "execution_count": 1,
      "outputs": [
        {
          "output_type": "display_data",
          "data": {
            "text/html": [
              "\n",
              "     <input type=\"file\" id=\"files-de8c8c87-33d3-41cc-a1ae-88f9511e9acb\" name=\"files[]\" multiple disabled />\n",
              "     <output id=\"result-de8c8c87-33d3-41cc-a1ae-88f9511e9acb\">\n",
              "      Upload widget is only available when the cell has been executed in the\n",
              "      current browser session. Please rerun this cell to enable.\n",
              "      </output>\n",
              "      <script src=\"/nbextensions/google.colab/files.js\"></script> "
            ],
            "text/plain": [
              "<IPython.core.display.HTML object>"
            ]
          },
          "metadata": {
            "tags": []
          }
        },
        {
          "output_type": "stream",
          "text": [
            "Saving fashion-mnist_test.csv to fashion-mnist_test.csv\n",
            "Saving fashion-mnist_train.csv to fashion-mnist_train.csv\n"
          ],
          "name": "stdout"
        }
      ]
    },
    {
      "metadata": {
        "id": "0gPMxKSvYmsq",
        "colab_type": "code",
        "colab": {}
      },
      "cell_type": "code",
      "source": [
        "import pandas as pd\n",
        "import numpy as np\n",
        "import matplotlib.pyplot as plt\n",
        "\n",
        "from keras.utils import to_categorical\n",
        "from keras.models import Sequential\n",
        "from keras.layers import *\n",
        "\n",
        "from sklearn.model_selection import train_test_split"
      ],
      "execution_count": 0,
      "outputs": []
    },
    {
      "metadata": {
        "id": "AmnXnCwsrfW4",
        "colab_type": "text"
      },
      "cell_type": "markdown",
      "source": [
        "## Train Data Preparation"
      ]
    },
    {
      "metadata": {
        "id": "SI7PmzumlXwX",
        "colab_type": "code",
        "colab": {
          "base_uri": "https://localhost:8080/",
          "height": 34
        },
        "outputId": "6b431218-ea4f-4420-b101-e4c61f85a4e8"
      },
      "cell_type": "code",
      "source": [
        "train = pd.read_csv('./fashion-mnist_train.csv')\n",
        "X_ = np.array(train)\n",
        "X = X_[:,1:]\n",
        "\n",
        "Y_ = X_[:,0]\n",
        "Y = to_categorical(Y_)\n",
        "\n",
        "print(X.shape, Y.shape)"
      ],
      "execution_count": 27,
      "outputs": [
        {
          "output_type": "stream",
          "text": [
            "(60000, 784) (60000, 10)\n"
          ],
          "name": "stdout"
        }
      ]
    },
    {
      "metadata": {
        "id": "1IhsJcjlr7LD",
        "colab_type": "code",
        "colab": {
          "base_uri": "https://localhost:8080/",
          "height": 34
        },
        "outputId": "2cff4e79-87b3-44b5-a6a9-dab7fb9910a4"
      },
      "cell_type": "code",
      "source": [
        "test = pd.read_csv('./fashion-mnist_test.csv')\n",
        "X_ = np.array(test)\n",
        "X_test = X_[:,1:]\n",
        "\n",
        "Y_test = X_[:,0]\n",
        "Y_test = to_categorical(Y_test)\n",
        "\n",
        "print(X_test.shape, Y_test.shape)"
      ],
      "execution_count": 28,
      "outputs": [
        {
          "output_type": "stream",
          "text": [
            "(10000, 784) (10000, 10)\n"
          ],
          "name": "stdout"
        }
      ]
    },
    {
      "metadata": {
        "id": "qjpTI2nQscxL",
        "colab_type": "text"
      },
      "cell_type": "markdown",
      "source": [
        "## Splitting into training and validation set"
      ]
    },
    {
      "metadata": {
        "id": "QNk77_wXsn1E",
        "colab_type": "code",
        "colab": {
          "base_uri": "https://localhost:8080/",
          "height": 51
        },
        "outputId": "07f3e32d-884f-49b6-8c5f-e23d9fb0e0fa"
      },
      "cell_type": "code",
      "source": [
        "X_train, X_val, Y_train, Y_val = train_test_split(X, Y, test_size=0.2, random_state=13)\n",
        "\n",
        "print(X_train.shape, Y_train.shape)\n",
        "print(X_val.shape, Y_val.shape)"
      ],
      "execution_count": 29,
      "outputs": [
        {
          "output_type": "stream",
          "text": [
            "(48000, 784) (48000, 10)\n",
            "(12000, 784) (12000, 10)\n"
          ],
          "name": "stdout"
        }
      ]
    },
    {
      "metadata": {
        "id": "ikLvy8drtZQE",
        "colab_type": "text"
      },
      "cell_type": "markdown",
      "source": [
        "## Preprocessing the data"
      ]
    },
    {
      "metadata": {
        "id": "BguhMPL9tfLH",
        "colab_type": "code",
        "colab": {}
      },
      "cell_type": "code",
      "source": [
        "X_train = X_train.reshape((-1,28,28,1))\n",
        "X_train = X_train.astype('float32')\n",
        "X_train /= 255\n",
        "\n",
        "X_test = X_test.reshape((-1,28,28,1))\n",
        "X_test = X_test.astype('float32')\n",
        "X_test /= 255\n",
        "\n",
        "X_val = X_val.reshape((-1,28,28,1))\n",
        "X_val = X_val.astype('float32')\n",
        "X_val /= 255"
      ],
      "execution_count": 0,
      "outputs": []
    },
    {
      "metadata": {
        "id": "F_6hVBlR1nr7",
        "colab_type": "text"
      },
      "cell_type": "markdown",
      "source": [
        "## Visualize the data"
      ]
    },
    {
      "metadata": {
        "id": "AQfzQ6fG12Iv",
        "colab_type": "code",
        "colab": {
          "base_uri": "https://localhost:8080/",
          "height": 2537
        },
        "outputId": "8cd51bb2-7049-4bdd-a05f-21e7b18e33e5"
      },
      "cell_type": "code",
      "source": [
        "for i in range(10):\n",
        "  plt.imshow(X_train[i].reshape(28,28), cmap='gray')\n",
        "  plt.show()"
      ],
      "execution_count": 31,
      "outputs": [
        {
          "output_type": "display_data",
          "data": {
            "image/png": "[encoded data removed]",
            "text/plain": [
              "<Figure size 432x288 with 1 Axes>"
            ]
          },
          "metadata": {
            "tags": []
          }
        },
        {
          "output_type": "display_data",
          "data": {
            "image/png": "[encoded data removed]",
            "text/plain": [
              "<Figure size 432x288 with 1 Axes>"
            ]
          },
          "metadata": {
            "tags": []
          }
        },
        {
          "output_type": "display_data",
          "data": {
            "image/png": "[encoded data removed]",
            "text/plain": [
              "<Figure size 432x288 with 1 Axes>"
            ]
          },
          "metadata": {
            "tags": []
          }
        },
        {
          "output_type": "display_data",
          "data": {
            "image/png": "[encoded data removed]",
            "text/plain": [
              "<Figure size 432x288 with 1 Axes>"
            ]
          },
          "metadata": {
            "tags": []
          }
        },
        {
          "output_type": "display_data",
          "data": {
            "image/png": "[encoded data removed]",
            "text/plain": [
              "<Figure size 432x288 with 1 Axes>"
            ]
          },
          "metadata": {
            "tags": []
          }
        },
        {
          "output_type": "display_data",
          "data": {
            "image/png": "[encoded data removed]",
            "text/plain": [
              "<Figure size 432x288 with 1 Axes>"
            ]
          },
          "metadata": {
            "tags": []
          }
        },
        {
          "output_type": "display_data",
          "data": {
            "image/png": "[encoded data removed]",
            "text/plain": [
              "<Figure size 432x288 with 1 Axes>"
            ]
          },
          "metadata": {
            "tags": []
          }
        },
        {
          "output_type": "display_data",
          "data": {
            "image/png": "[encoded data removed]",
            "text/plain": [
              "<Figure size 432x288 with 1 Axes>"
            ]
          },
          "metadata": {
            "tags": []
          }
        },
        {
          "output_type": "display_data",
          "data": {
            "image/png": "[encoded data removed]",
            "text/plain": [
              "<Figure size 432x288 with 1 Axes>"
            ]
          },
          "metadata": {
            "tags": []
          }
        },
        {
          "output_type": "display_data",
          "data": {
            "image/png": "[encoded data removed]",
            "text/plain": [
              "<Figure size 432x288 with 1 Axes>"
            ]
          },
          "metadata": {
            "tags": []
          }
        }
      ]
    },
    {
      "metadata": {
        "id": "If09SHvZ20tz",
        "colab_type": "text"
      },
      "cell_type": "markdown",
      "source": [
        "## Training"
      ]
    },
    {
      "metadata": {
        "id": "ZT6SbB-Z4Qjb",
        "colab_type": "text"
      },
      "cell_type": "markdown",
      "source": [
        "## CNN Model 1\n",
        "\n",
        "With 1 convolutional layer"
      ]
    },
    {
      "metadata": {
        "id": "-5PaH2lr4Xfr",
        "colab_type": "code",
        "colab": {
          "base_uri": "https://localhost:8080/",
          "height": 340
        },
        "outputId": "6f842e47-04e5-48b6-d3bf-2bd28c2328cd"
      },
      "cell_type": "code",
      "source": [
        "model_1 = Sequential()\n",
        "model_1.add(Conv2D(32, kernel_size=(3,3), activation='relu', input_shape=(28,28,1)))\n",
        "model_1.add(MaxPooling2D(pool_size=(2,2)))\n",
        "model_1.add(Dropout(0.2))\n",
        "\n",
        "model_1.add(Flatten())\n",
        "\n",
        "model_1.add(Dense(128, activation='relu'))\n",
        "model_1.add(Dense(10, activation='softmax'))\n",
        "\n",
        "model_1.summary()"
      ],
      "execution_count": 32,
      "outputs": [
        {
          "output_type": "stream",
          "text": [
            "_________________________________________________________________\n",
            "Layer (type)                 Output Shape              Param #   \n",
            "=================================================================\n",
            "conv2d_4 (Conv2D)            (None, 26, 26, 32)        320       \n",
            "_________________________________________________________________\n",
            "max_pooling2d_4 (MaxPooling2 (None, 13, 13, 32)        0         \n",
            "_________________________________________________________________\n",
            "dropout_4 (Dropout)          (None, 13, 13, 32)        0         \n",
            "_________________________________________________________________\n",
            "flatten_4 (Flatten)          (None, 5408)              0         \n",
            "_________________________________________________________________\n",
            "dense_7 (Dense)              (None, 128)               692352    \n",
            "_________________________________________________________________\n",
            "dense_8 (Dense)              (None, 10)                1290      \n",
            "=================================================================\n",
            "Total params: 693,962\n",
            "Trainable params: 693,962\n",
            "Non-trainable params: 0\n",
            "_________________________________________________________________\n"
          ],
          "name": "stdout"
        }
      ]
    },
    {
      "metadata": {
        "id": "OyWjOt0d5TX7",
        "colab_type": "code",
        "colab": {
          "base_uri": "https://localhost:8080/",
          "height": 1734
        },
        "outputId": "5b28d8b1-b4b3-4420-a109-1ca2a82f5722"
      },
      "cell_type": "code",
      "source": [
        "model_1.compile(loss='categorical_crossentropy', optimizer='adam', metrics=['accuracy'])\n",
        "history_1 = model_1.fit(X_train, Y_train, batch_size=256, epochs=50, verbose=1, validation_data=(X_val, Y_val))"
      ],
      "execution_count": 33,
      "outputs": [
        {
          "output_type": "stream",
          "text": [
            "Train on 48000 samples, validate on 12000 samples\n",
            "Epoch 1/50\n",
            "48000/48000 [==============================] - 2s 43us/step - loss: 0.5420 - acc: 0.8112 - val_loss: 0.3933 - val_acc: 0.8614\n",
            "Epoch 2/50\n",
            "48000/48000 [==============================] - 1s 30us/step - loss: 0.3581 - acc: 0.8755 - val_loss: 0.3503 - val_acc: 0.8771\n",
            "Epoch 3/50\n",
            "48000/48000 [==============================] - 1s 30us/step - loss: 0.3132 - acc: 0.8885 - val_loss: 0.3107 - val_acc: 0.8887\n",
            "Epoch 4/50\n",
            "48000/48000 [==============================] - 1s 29us/step - loss: 0.2811 - acc: 0.8994 - val_loss: 0.2943 - val_acc: 0.8958\n",
            "Epoch 5/50\n",
            "48000/48000 [==============================] - 1s 30us/step - loss: 0.2669 - acc: 0.9035 - val_loss: 0.2822 - val_acc: 0.8972\n",
            "Epoch 6/50\n",
            "48000/48000 [==============================] - 1s 30us/step - loss: 0.2474 - acc: 0.9113 - val_loss: 0.2708 - val_acc: 0.9023\n",
            "Epoch 7/50\n",
            "48000/48000 [==============================] - 1s 28us/step - loss: 0.2307 - acc: 0.9171 - val_loss: 0.2639 - val_acc: 0.9044\n",
            "Epoch 8/50\n",
            "48000/48000 [==============================] - 1s 28us/step - loss: 0.2181 - acc: 0.9216 - val_loss: 0.2808 - val_acc: 0.8991\n",
            "Epoch 9/50\n",
            "48000/48000 [==============================] - 1s 28us/step - loss: 0.2064 - acc: 0.9250 - val_loss: 0.2507 - val_acc: 0.9102\n",
            "Epoch 10/50\n",
            "48000/48000 [==============================] - 1s 28us/step - loss: 0.1960 - acc: 0.9295 - val_loss: 0.2504 - val_acc: 0.9110\n",
            "Epoch 11/50\n",
            "48000/48000 [==============================] - 1s 28us/step - loss: 0.1857 - acc: 0.9326 - val_loss: 0.2514 - val_acc: 0.9110\n",
            "Epoch 12/50\n",
            "48000/48000 [==============================] - 1s 28us/step - loss: 0.1728 - acc: 0.9375 - val_loss: 0.2480 - val_acc: 0.9131\n",
            "Epoch 13/50\n",
            "48000/48000 [==============================] - 1s 28us/step - loss: 0.1651 - acc: 0.9403 - val_loss: 0.2434 - val_acc: 0.9149\n",
            "Epoch 14/50\n",
            "48000/48000 [==============================] - 1s 28us/step - loss: 0.1584 - acc: 0.9424 - val_loss: 0.2382 - val_acc: 0.9157\n",
            "Epoch 15/50\n",
            "48000/48000 [==============================] - 1s 28us/step - loss: 0.1504 - acc: 0.9454 - val_loss: 0.2390 - val_acc: 0.9166\n",
            "Epoch 16/50\n",
            "48000/48000 [==============================] - 1s 29us/step - loss: 0.1426 - acc: 0.9477 - val_loss: 0.2414 - val_acc: 0.9148\n",
            "Epoch 17/50\n",
            "48000/48000 [==============================] - 1s 28us/step - loss: 0.1375 - acc: 0.9512 - val_loss: 0.2489 - val_acc: 0.9145\n",
            "Epoch 18/50\n",
            "48000/48000 [==============================] - 1s 28us/step - loss: 0.1308 - acc: 0.9533 - val_loss: 0.2499 - val_acc: 0.9162\n",
            "Epoch 19/50\n",
            "48000/48000 [==============================] - 1s 28us/step - loss: 0.1236 - acc: 0.9562 - val_loss: 0.2427 - val_acc: 0.9175\n",
            "Epoch 20/50\n",
            "48000/48000 [==============================] - 1s 28us/step - loss: 0.1148 - acc: 0.9593 - val_loss: 0.2355 - val_acc: 0.9209\n",
            "Epoch 21/50\n",
            "48000/48000 [==============================] - 1s 28us/step - loss: 0.1116 - acc: 0.9593 - val_loss: 0.2479 - val_acc: 0.9185\n",
            "Epoch 22/50\n",
            "48000/48000 [==============================] - 1s 28us/step - loss: 0.1050 - acc: 0.9614 - val_loss: 0.2428 - val_acc: 0.9193\n",
            "Epoch 23/50\n",
            "48000/48000 [==============================] - 1s 27us/step - loss: 0.1012 - acc: 0.9629 - val_loss: 0.2433 - val_acc: 0.9212\n",
            "Epoch 24/50\n",
            "48000/48000 [==============================] - 1s 28us/step - loss: 0.0971 - acc: 0.9648 - val_loss: 0.2495 - val_acc: 0.9201\n",
            "Epoch 25/50\n",
            "48000/48000 [==============================] - 1s 28us/step - loss: 0.0900 - acc: 0.9681 - val_loss: 0.2881 - val_acc: 0.9093\n",
            "Epoch 26/50\n",
            "48000/48000 [==============================] - 1s 28us/step - loss: 0.0875 - acc: 0.9687 - val_loss: 0.2625 - val_acc: 0.9173\n",
            "Epoch 27/50\n",
            "48000/48000 [==============================] - 1s 28us/step - loss: 0.0849 - acc: 0.9688 - val_loss: 0.2683 - val_acc: 0.9179\n",
            "Epoch 28/50\n",
            "48000/48000 [==============================] - 1s 28us/step - loss: 0.0812 - acc: 0.9699 - val_loss: 0.2653 - val_acc: 0.9170\n",
            "Epoch 29/50\n",
            "48000/48000 [==============================] - 1s 28us/step - loss: 0.0762 - acc: 0.9728 - val_loss: 0.2842 - val_acc: 0.9157\n",
            "Epoch 30/50\n",
            "48000/48000 [==============================] - 1s 28us/step - loss: 0.0737 - acc: 0.9733 - val_loss: 0.2665 - val_acc: 0.9221\n",
            "Epoch 31/50\n",
            "48000/48000 [==============================] - 1s 28us/step - loss: 0.0691 - acc: 0.9756 - val_loss: 0.2707 - val_acc: 0.9193\n",
            "Epoch 32/50\n",
            "48000/48000 [==============================] - 1s 28us/step - loss: 0.0642 - acc: 0.9772 - val_loss: 0.2783 - val_acc: 0.9201\n",
            "Epoch 33/50\n",
            "48000/48000 [==============================] - 1s 28us/step - loss: 0.0610 - acc: 0.9784 - val_loss: 0.2736 - val_acc: 0.9205\n",
            "Epoch 34/50\n",
            "48000/48000 [==============================] - 1s 28us/step - loss: 0.0598 - acc: 0.9782 - val_loss: 0.2841 - val_acc: 0.9180\n",
            "Epoch 35/50\n",
            "48000/48000 [==============================] - 1s 28us/step - loss: 0.0566 - acc: 0.9804 - val_loss: 0.2984 - val_acc: 0.9181\n",
            "Epoch 36/50\n",
            "48000/48000 [==============================] - 1s 28us/step - loss: 0.0537 - acc: 0.9812 - val_loss: 0.2965 - val_acc: 0.9187\n",
            "Epoch 37/50\n",
            "48000/48000 [==============================] - 1s 28us/step - loss: 0.0529 - acc: 0.9810 - val_loss: 0.3081 - val_acc: 0.9157\n",
            "Epoch 38/50\n",
            "48000/48000 [==============================] - 1s 28us/step - loss: 0.0487 - acc: 0.9830 - val_loss: 0.2987 - val_acc: 0.9195\n",
            "Epoch 39/50\n",
            "48000/48000 [==============================] - 1s 28us/step - loss: 0.0474 - acc: 0.9833 - val_loss: 0.3179 - val_acc: 0.9156\n",
            "Epoch 40/50\n",
            "48000/48000 [==============================] - 1s 28us/step - loss: 0.0447 - acc: 0.9848 - val_loss: 0.3133 - val_acc: 0.9178\n",
            "Epoch 41/50\n",
            "48000/48000 [==============================] - 1s 28us/step - loss: 0.0446 - acc: 0.9846 - val_loss: 0.3223 - val_acc: 0.9171\n",
            "Epoch 42/50\n",
            "48000/48000 [==============================] - 1s 28us/step - loss: 0.0417 - acc: 0.9855 - val_loss: 0.3122 - val_acc: 0.9218\n",
            "Epoch 43/50\n",
            "48000/48000 [==============================] - 1s 28us/step - loss: 0.0381 - acc: 0.9863 - val_loss: 0.3207 - val_acc: 0.9197\n",
            "Epoch 44/50\n",
            "48000/48000 [==============================] - 1s 28us/step - loss: 0.0382 - acc: 0.9860 - val_loss: 0.3235 - val_acc: 0.9180\n",
            "Epoch 45/50\n",
            "48000/48000 [==============================] - 1s 28us/step - loss: 0.0390 - acc: 0.9861 - val_loss: 0.3369 - val_acc: 0.9208\n",
            "Epoch 46/50\n",
            "48000/48000 [==============================] - 1s 28us/step - loss: 0.0365 - acc: 0.9871 - val_loss: 0.3299 - val_acc: 0.9203\n",
            "Epoch 47/50\n",
            "48000/48000 [==============================] - 1s 28us/step - loss: 0.0352 - acc: 0.9882 - val_loss: 0.3395 - val_acc: 0.9203\n",
            "Epoch 48/50\n",
            "48000/48000 [==============================] - 1s 28us/step - loss: 0.0342 - acc: 0.9881 - val_loss: 0.3364 - val_acc: 0.9189\n",
            "Epoch 49/50\n",
            "48000/48000 [==============================] - 1s 28us/step - loss: 0.0311 - acc: 0.9892 - val_loss: 0.3424 - val_acc: 0.9171\n",
            "Epoch 50/50\n",
            "48000/48000 [==============================] - 1s 28us/step - loss: 0.0318 - acc: 0.9890 - val_loss: 0.3592 - val_acc: 0.9180\n"
          ],
          "name": "stdout"
        }
      ]
    },
    {
      "metadata": {
        "id": "gMDG1C4y6Ens",
        "colab_type": "code",
        "colab": {
          "base_uri": "https://localhost:8080/",
          "height": 51
        },
        "outputId": "12690460-a49d-410a-cad3-89185a51538d"
      },
      "cell_type": "code",
      "source": [
        "score_1 = model_1.evaluate(X_test, Y_test, verbose=0)\n",
        "print('Test loss: ', score_1[0])\n",
        "print('Test accuracy: ', score_1[1]*100)"
      ],
      "execution_count": 34,
      "outputs": [
        {
          "output_type": "stream",
          "text": [
            "Test loss:  0.33992794977873564\n",
            "Test accuracy:  92.28\n"
          ],
          "name": "stdout"
        }
      ]
    },
    {
      "metadata": {
        "id": "B-IW-b466y3b",
        "colab_type": "code",
        "colab": {
          "base_uri": "https://localhost:8080/",
          "height": 297
        },
        "outputId": "acd451e8-3b62-4ca6-a461-604206f1fe06"
      },
      "cell_type": "code",
      "source": [
        "plt.figure(figsize=(10,4))\n",
        "\n",
        "plt.subplot(1,2,1)\n",
        "plt.title('Loss vs Epochs')\n",
        "plt.plot(history_1.history['loss'], label='Training Loss')\n",
        "plt.plot(history_1.history['val_loss'], label='Validation Loss')\n",
        "plt.legend()\n",
        "\n",
        "plt.subplot(1,2,2)\n",
        "plt.title('Accuracy vs Epochs')\n",
        "plt.plot(history_1.history['acc'], label='Training Accuracy')\n",
        "plt.plot(history_1.history['val_acc'], label='Validation Accuracy')\n",
        "plt.legend()\n",
        "plt.tight_layout()\n",
        "plt.show()"
      ],
      "execution_count": 35,
      "outputs": [
        {
          "output_type": "display_data",
          "data": {
            "image/png": "[encoded data removed]",
            "text/plain": [
              "<Figure size 720x288 with 2 Axes>"
            ]
          },
          "metadata": {
            "tags": []
          }
        }
      ]
    },
    {
      "metadata": {
        "id": "S3AXKeyf7xp-",
        "colab_type": "code",
        "colab": {}
      },
      "cell_type": "code",
      "source": [
        ""
      ],
      "execution_count": 0,
      "outputs": []
    }
  ]
}